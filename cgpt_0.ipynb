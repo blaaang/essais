{
 "cells": [
  {
   "cell_type": "code",
   "execution_count": 1,
   "metadata": {},
   "outputs": [
    {
     "data": {
      "application/vnd.plotly.v1+json": {
       "config": {
        "plotlyServerURL": "https://plot.ly"
       },
       "data": [
        {
         "hovertemplate": "frame=1<br>x=%{x}<br>y=%{y}<extra></extra>",
         "legendgroup": "",
         "line": {
          "color": "#636efa",
          "dash": "solid"
         },
         "marker": {
          "symbol": "circle"
         },
         "mode": "lines",
         "name": "",
         "orientation": "v",
         "showlegend": false,
         "type": "scatter",
         "x": [
          1,
          2,
          3
         ],
         "xaxis": "x",
         "y": [
          1,
          2,
          3
         ],
         "yaxis": "y"
        }
       ],
       "frames": [
        {
         "data": [
          {
           "hovertemplate": "frame=1<br>x=%{x}<br>y=%{y}<extra></extra>",
           "legendgroup": "",
           "line": {
            "color": "#636efa",
            "dash": "solid"
           },
           "marker": {
            "symbol": "circle"
           },
           "mode": "lines",
           "name": "",
           "orientation": "v",
           "showlegend": false,
           "type": "scatter",
           "x": [
            1,
            2,
            3
           ],
           "xaxis": "x",
           "y": [
            1,
            2,
            3
           ],
           "yaxis": "y"
          }
         ],
         "name": "1"
        },
        {
         "data": [
          {
           "hovertemplate": "frame=2<br>x=%{x}<br>y=%{y}<extra></extra>",
           "legendgroup": "",
           "line": {
            "color": "#636efa",
            "dash": "solid"
           },
           "marker": {
            "symbol": "circle"
           },
           "mode": "lines",
           "name": "",
           "orientation": "v",
           "showlegend": false,
           "type": "scatter",
           "x": [
            1,
            2,
            3
           ],
           "xaxis": "x",
           "y": [
            3,
            2,
            1
           ],
           "yaxis": "y"
          }
         ],
         "name": "2"
        }
       ],
       "layout": {
        "legend": {
         "tracegroupgap": 0
        },
        "sliders": [
         {
          "active": 0,
          "currentvalue": {
           "prefix": "frame="
          },
          "len": 0.9,
          "pad": {
           "b": 10,
           "t": 60
          },
          "steps": [
           {
            "args": [
             [
              "1"
             ],
             {
              "frame": {
               "duration": 0,
               "redraw": false
              },
              "fromcurrent": true,
              "mode": "immediate",
              "transition": {
               "duration": 0,
               "easing": "linear"
              }
             }
            ],
            "label": "1",
            "method": "animate"
           },
           {
            "args": [
             [
              "2"
             ],
             {
              "frame": {
               "duration": 0,
               "redraw": false
              },
              "fromcurrent": true,
              "mode": "immediate",
              "transition": {
               "duration": 0,
               "easing": "linear"
              }
             }
            ],
            "label": "2",
            "method": "animate"
           }
          ],
          "x": 0.1,
          "xanchor": "left",
          "y": 0,
          "yanchor": "top"
         }
        ],
        "template": {
         "data": {
          "bar": [
           {
            "error_x": {
             "color": "#2a3f5f"
            },
            "error_y": {
             "color": "#2a3f5f"
            },
            "marker": {
             "line": {
              "color": "#E5ECF6",
              "width": 0.5
             },
             "pattern": {
              "fillmode": "overlay",
              "size": 10,
              "solidity": 0.2
             }
            },
            "type": "bar"
           }
          ],
          "barpolar": [
           {
            "marker": {
             "line": {
              "color": "#E5ECF6",
              "width": 0.5
             },
             "pattern": {
              "fillmode": "overlay",
              "size": 10,
              "solidity": 0.2
             }
            },
            "type": "barpolar"
           }
          ],
          "carpet": [
           {
            "aaxis": {
             "endlinecolor": "#2a3f5f",
             "gridcolor": "white",
             "linecolor": "white",
             "minorgridcolor": "white",
             "startlinecolor": "#2a3f5f"
            },
            "baxis": {
             "endlinecolor": "#2a3f5f",
             "gridcolor": "white",
             "linecolor": "white",
             "minorgridcolor": "white",
             "startlinecolor": "#2a3f5f"
            },
            "type": "carpet"
           }
          ],
          "choropleth": [
           {
            "colorbar": {
             "outlinewidth": 0,
             "ticks": ""
            },
            "type": "choropleth"
           }
          ],
          "contour": [
           {
            "colorbar": {
             "outlinewidth": 0,
             "ticks": ""
            },
            "colorscale": [
             [
              0,
              "#0d0887"
             ],
             [
              0.1111111111111111,
              "#46039f"
             ],
             [
              0.2222222222222222,
              "#7201a8"
             ],
             [
              0.3333333333333333,
              "#9c179e"
             ],
             [
              0.4444444444444444,
              "#bd3786"
             ],
             [
              0.5555555555555556,
              "#d8576b"
             ],
             [
              0.6666666666666666,
              "#ed7953"
             ],
             [
              0.7777777777777778,
              "#fb9f3a"
             ],
             [
              0.8888888888888888,
              "#fdca26"
             ],
             [
              1,
              "#f0f921"
             ]
            ],
            "type": "contour"
           }
          ],
          "contourcarpet": [
           {
            "colorbar": {
             "outlinewidth": 0,
             "ticks": ""
            },
            "type": "contourcarpet"
           }
          ],
          "heatmap": [
           {
            "colorbar": {
             "outlinewidth": 0,
             "ticks": ""
            },
            "colorscale": [
             [
              0,
              "#0d0887"
             ],
             [
              0.1111111111111111,
              "#46039f"
             ],
             [
              0.2222222222222222,
              "#7201a8"
             ],
             [
              0.3333333333333333,
              "#9c179e"
             ],
             [
              0.4444444444444444,
              "#bd3786"
             ],
             [
              0.5555555555555556,
              "#d8576b"
             ],
             [
              0.6666666666666666,
              "#ed7953"
             ],
             [
              0.7777777777777778,
              "#fb9f3a"
             ],
             [
              0.8888888888888888,
              "#fdca26"
             ],
             [
              1,
              "#f0f921"
             ]
            ],
            "type": "heatmap"
           }
          ],
          "heatmapgl": [
           {
            "colorbar": {
             "outlinewidth": 0,
             "ticks": ""
            },
            "colorscale": [
             [
              0,
              "#0d0887"
             ],
             [
              0.1111111111111111,
              "#46039f"
             ],
             [
              0.2222222222222222,
              "#7201a8"
             ],
             [
              0.3333333333333333,
              "#9c179e"
             ],
             [
              0.4444444444444444,
              "#bd3786"
             ],
             [
              0.5555555555555556,
              "#d8576b"
             ],
             [
              0.6666666666666666,
              "#ed7953"
             ],
             [
              0.7777777777777778,
              "#fb9f3a"
             ],
             [
              0.8888888888888888,
              "#fdca26"
             ],
             [
              1,
              "#f0f921"
             ]
            ],
            "type": "heatmapgl"
           }
          ],
          "histogram": [
           {
            "marker": {
             "pattern": {
              "fillmode": "overlay",
              "size": 10,
              "solidity": 0.2
             }
            },
            "type": "histogram"
           }
          ],
          "histogram2d": [
           {
            "colorbar": {
             "outlinewidth": 0,
             "ticks": ""
            },
            "colorscale": [
             [
              0,
              "#0d0887"
             ],
             [
              0.1111111111111111,
              "#46039f"
             ],
             [
              0.2222222222222222,
              "#7201a8"
             ],
             [
              0.3333333333333333,
              "#9c179e"
             ],
             [
              0.4444444444444444,
              "#bd3786"
             ],
             [
              0.5555555555555556,
              "#d8576b"
             ],
             [
              0.6666666666666666,
              "#ed7953"
             ],
             [
              0.7777777777777778,
              "#fb9f3a"
             ],
             [
              0.8888888888888888,
              "#fdca26"
             ],
             [
              1,
              "#f0f921"
             ]
            ],
            "type": "histogram2d"
           }
          ],
          "histogram2dcontour": [
           {
            "colorbar": {
             "outlinewidth": 0,
             "ticks": ""
            },
            "colorscale": [
             [
              0,
              "#0d0887"
             ],
             [
              0.1111111111111111,
              "#46039f"
             ],
             [
              0.2222222222222222,
              "#7201a8"
             ],
             [
              0.3333333333333333,
              "#9c179e"
             ],
             [
              0.4444444444444444,
              "#bd3786"
             ],
             [
              0.5555555555555556,
              "#d8576b"
             ],
             [
              0.6666666666666666,
              "#ed7953"
             ],
             [
              0.7777777777777778,
              "#fb9f3a"
             ],
             [
              0.8888888888888888,
              "#fdca26"
             ],
             [
              1,
              "#f0f921"
             ]
            ],
            "type": "histogram2dcontour"
           }
          ],
          "mesh3d": [
           {
            "colorbar": {
             "outlinewidth": 0,
             "ticks": ""
            },
            "type": "mesh3d"
           }
          ],
          "parcoords": [
           {
            "line": {
             "colorbar": {
              "outlinewidth": 0,
              "ticks": ""
             }
            },
            "type": "parcoords"
           }
          ],
          "pie": [
           {
            "automargin": true,
            "type": "pie"
           }
          ],
          "scatter": [
           {
            "fillpattern": {
             "fillmode": "overlay",
             "size": 10,
             "solidity": 0.2
            },
            "type": "scatter"
           }
          ],
          "scatter3d": [
           {
            "line": {
             "colorbar": {
              "outlinewidth": 0,
              "ticks": ""
             }
            },
            "marker": {
             "colorbar": {
              "outlinewidth": 0,
              "ticks": ""
             }
            },
            "type": "scatter3d"
           }
          ],
          "scattercarpet": [
           {
            "marker": {
             "colorbar": {
              "outlinewidth": 0,
              "ticks": ""
             }
            },
            "type": "scattercarpet"
           }
          ],
          "scattergeo": [
           {
            "marker": {
             "colorbar": {
              "outlinewidth": 0,
              "ticks": ""
             }
            },
            "type": "scattergeo"
           }
          ],
          "scattergl": [
           {
            "marker": {
             "colorbar": {
              "outlinewidth": 0,
              "ticks": ""
             }
            },
            "type": "scattergl"
           }
          ],
          "scattermapbox": [
           {
            "marker": {
             "colorbar": {
              "outlinewidth": 0,
              "ticks": ""
             }
            },
            "type": "scattermapbox"
           }
          ],
          "scatterpolar": [
           {
            "marker": {
             "colorbar": {
              "outlinewidth": 0,
              "ticks": ""
             }
            },
            "type": "scatterpolar"
           }
          ],
          "scatterpolargl": [
           {
            "marker": {
             "colorbar": {
              "outlinewidth": 0,
              "ticks": ""
             }
            },
            "type": "scatterpolargl"
           }
          ],
          "scatterternary": [
           {
            "marker": {
             "colorbar": {
              "outlinewidth": 0,
              "ticks": ""
             }
            },
            "type": "scatterternary"
           }
          ],
          "surface": [
           {
            "colorbar": {
             "outlinewidth": 0,
             "ticks": ""
            },
            "colorscale": [
             [
              0,
              "#0d0887"
             ],
             [
              0.1111111111111111,
              "#46039f"
             ],
             [
              0.2222222222222222,
              "#7201a8"
             ],
             [
              0.3333333333333333,
              "#9c179e"
             ],
             [
              0.4444444444444444,
              "#bd3786"
             ],
             [
              0.5555555555555556,
              "#d8576b"
             ],
             [
              0.6666666666666666,
              "#ed7953"
             ],
             [
              0.7777777777777778,
              "#fb9f3a"
             ],
             [
              0.8888888888888888,
              "#fdca26"
             ],
             [
              1,
              "#f0f921"
             ]
            ],
            "type": "surface"
           }
          ],
          "table": [
           {
            "cells": {
             "fill": {
              "color": "#EBF0F8"
             },
             "line": {
              "color": "white"
             }
            },
            "header": {
             "fill": {
              "color": "#C8D4E3"
             },
             "line": {
              "color": "white"
             }
            },
            "type": "table"
           }
          ]
         },
         "layout": {
          "annotationdefaults": {
           "arrowcolor": "#2a3f5f",
           "arrowhead": 0,
           "arrowwidth": 1
          },
          "autotypenumbers": "strict",
          "coloraxis": {
           "colorbar": {
            "outlinewidth": 0,
            "ticks": ""
           }
          },
          "colorscale": {
           "diverging": [
            [
             0,
             "#8e0152"
            ],
            [
             0.1,
             "#c51b7d"
            ],
            [
             0.2,
             "#de77ae"
            ],
            [
             0.3,
             "#f1b6da"
            ],
            [
             0.4,
             "#fde0ef"
            ],
            [
             0.5,
             "#f7f7f7"
            ],
            [
             0.6,
             "#e6f5d0"
            ],
            [
             0.7,
             "#b8e186"
            ],
            [
             0.8,
             "#7fbc41"
            ],
            [
             0.9,
             "#4d9221"
            ],
            [
             1,
             "#276419"
            ]
           ],
           "sequential": [
            [
             0,
             "#0d0887"
            ],
            [
             0.1111111111111111,
             "#46039f"
            ],
            [
             0.2222222222222222,
             "#7201a8"
            ],
            [
             0.3333333333333333,
             "#9c179e"
            ],
            [
             0.4444444444444444,
             "#bd3786"
            ],
            [
             0.5555555555555556,
             "#d8576b"
            ],
            [
             0.6666666666666666,
             "#ed7953"
            ],
            [
             0.7777777777777778,
             "#fb9f3a"
            ],
            [
             0.8888888888888888,
             "#fdca26"
            ],
            [
             1,
             "#f0f921"
            ]
           ],
           "sequentialminus": [
            [
             0,
             "#0d0887"
            ],
            [
             0.1111111111111111,
             "#46039f"
            ],
            [
             0.2222222222222222,
             "#7201a8"
            ],
            [
             0.3333333333333333,
             "#9c179e"
            ],
            [
             0.4444444444444444,
             "#bd3786"
            ],
            [
             0.5555555555555556,
             "#d8576b"
            ],
            [
             0.6666666666666666,
             "#ed7953"
            ],
            [
             0.7777777777777778,
             "#fb9f3a"
            ],
            [
             0.8888888888888888,
             "#fdca26"
            ],
            [
             1,
             "#f0f921"
            ]
           ]
          },
          "colorway": [
           "#636efa",
           "#EF553B",
           "#00cc96",
           "#ab63fa",
           "#FFA15A",
           "#19d3f3",
           "#FF6692",
           "#B6E880",
           "#FF97FF",
           "#FECB52"
          ],
          "font": {
           "color": "#2a3f5f"
          },
          "geo": {
           "bgcolor": "white",
           "lakecolor": "white",
           "landcolor": "#E5ECF6",
           "showlakes": true,
           "showland": true,
           "subunitcolor": "white"
          },
          "hoverlabel": {
           "align": "left"
          },
          "hovermode": "closest",
          "mapbox": {
           "style": "light"
          },
          "paper_bgcolor": "white",
          "plot_bgcolor": "#E5ECF6",
          "polar": {
           "angularaxis": {
            "gridcolor": "white",
            "linecolor": "white",
            "ticks": ""
           },
           "bgcolor": "#E5ECF6",
           "radialaxis": {
            "gridcolor": "white",
            "linecolor": "white",
            "ticks": ""
           }
          },
          "scene": {
           "xaxis": {
            "backgroundcolor": "#E5ECF6",
            "gridcolor": "white",
            "gridwidth": 2,
            "linecolor": "white",
            "showbackground": true,
            "ticks": "",
            "zerolinecolor": "white"
           },
           "yaxis": {
            "backgroundcolor": "#E5ECF6",
            "gridcolor": "white",
            "gridwidth": 2,
            "linecolor": "white",
            "showbackground": true,
            "ticks": "",
            "zerolinecolor": "white"
           },
           "zaxis": {
            "backgroundcolor": "#E5ECF6",
            "gridcolor": "white",
            "gridwidth": 2,
            "linecolor": "white",
            "showbackground": true,
            "ticks": "",
            "zerolinecolor": "white"
           }
          },
          "shapedefaults": {
           "line": {
            "color": "#2a3f5f"
           }
          },
          "ternary": {
           "aaxis": {
            "gridcolor": "white",
            "linecolor": "white",
            "ticks": ""
           },
           "baxis": {
            "gridcolor": "white",
            "linecolor": "white",
            "ticks": ""
           },
           "bgcolor": "#E5ECF6",
           "caxis": {
            "gridcolor": "white",
            "linecolor": "white",
            "ticks": ""
           }
          },
          "title": {
           "x": 0.05
          },
          "xaxis": {
           "automargin": true,
           "gridcolor": "white",
           "linecolor": "white",
           "ticks": "",
           "title": {
            "standoff": 15
           },
           "zerolinecolor": "white",
           "zerolinewidth": 2
          },
          "yaxis": {
           "automargin": true,
           "gridcolor": "white",
           "linecolor": "white",
           "ticks": "",
           "title": {
            "standoff": 15
           },
           "zerolinecolor": "white",
           "zerolinewidth": 2
          }
         }
        },
        "title": {
         "text": "Animation avec Plotly Express"
        },
        "updatemenus": [
         {
          "buttons": [
           {
            "args": [
             null,
             {
              "frame": {
               "duration": 500,
               "redraw": false
              },
              "fromcurrent": true,
              "mode": "immediate",
              "transition": {
               "duration": 500,
               "easing": "linear"
              }
             }
            ],
            "label": "&#9654;",
            "method": "animate"
           },
           {
            "args": [
             [
              null
             ],
             {
              "frame": {
               "duration": 0,
               "redraw": false
              },
              "fromcurrent": true,
              "mode": "immediate",
              "transition": {
               "duration": 0,
               "easing": "linear"
              }
             }
            ],
            "label": "&#9724;",
            "method": "animate"
           }
          ],
          "direction": "left",
          "pad": {
           "r": 10,
           "t": 70
          },
          "showactive": false,
          "type": "buttons",
          "x": 0.1,
          "xanchor": "right",
          "y": 0,
          "yanchor": "top"
         }
        ],
        "xaxis": {
         "anchor": "y",
         "domain": [
          0,
          1
         ],
         "title": {
          "text": "x"
         }
        },
        "yaxis": {
         "anchor": "x",
         "domain": [
          0,
          1
         ],
         "title": {
          "text": "y"
         }
        }
       }
      }
     },
     "metadata": {},
     "output_type": "display_data"
    }
   ],
   "source": [
    "import plotly.express as px\n",
    "import pandas as pd\n",
    "\n",
    "# Création d'un DataFrame avec les données\n",
    "df = pd.DataFrame({\n",
    "    \"x\": [1, 2, 3, 1, 2, 3],\n",
    "    \"y\": [1, 2, 3, 3, 2, 1],\n",
    "    \"frame\": [1, 1, 1, 2, 2, 2]  # Frames pour l'animation\n",
    "})\n",
    "\n",
    "# Création du graphique avec animation_frame\n",
    "fig = px.line(df, x=\"x\", y=\"y\", animation_frame=\"frame\", title=\"Animation avec Plotly Express\")\n",
    "\n",
    "# Afficher le graphique dans Jupyter Notebook\n",
    "fig.show()\n"
   ]
  },
  {
   "cell_type": "code",
   "execution_count": 1,
   "metadata": {},
   "outputs": [
    {
     "data": {
      "application/vnd.jupyter.widget-view+json": {
       "model_id": "dbf282cbc2a7422890a9e4d8f4a48ed1",
       "version_major": 2,
       "version_minor": 0
      },
      "text/plain": [
       "VBox(children=(HBox(children=(Button(description='Démarrer', style=ButtonStyle()), Button(description='Arrêter…"
      ]
     },
     "metadata": {},
     "output_type": "display_data"
    },
    {
     "data": {
      "application/vnd.jupyter.widget-view+json": {
       "model_id": "1a7daea67efd40f0881e2412ace34bf9",
       "version_major": 2,
       "version_minor": 0
      },
      "image/png": "[encoded data removed]",
      "text/html": [
       "\n",
       "            <div style=\"display: inline-block;\">\n",
       "                <div class=\"jupyter-widgets widget-label\" style=\"text-align: center;\">\n",
       "                    Figure\n",
       "                </div>\n",
       "                <img src='data:image/png;base64,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' width=640.0/>\n",
       "            </div>\n",
       "        "
      ],
      "text/plain": [
       "Canvas(toolbar=Toolbar(toolitems=[('Home', 'Reset original view', 'home', 'home'), ('Back', 'Back to previous …"
      ]
     },
     "metadata": {},
     "output_type": "display_data"
    }
   ],
   "source": [
    "%matplotlib widget\n",
    "import numpy as np\n",
    "import matplotlib.pyplot as plt\n",
    "from matplotlib.animation import FuncAnimation\n",
    "import ipywidgets as widgets\n",
    "from IPython.display import display\n",
    "\n",
    "# Variables globales\n",
    "window_size = 10  # Taille de la fenêtre\n",
    "radius = 0.5      # Rayon du disque\n",
    "position = np.array([5.0, 5.0])  # Position initiale (x, y)\n",
    "velocity = np.array([0.1, 0.1])  # Vitesse initiale (vx, vy)\n",
    "is_running = False  # Variable d'état pour contrôler si l'animation est en cours\n",
    "\n",
    "# Création de la figure\n",
    "fig, ax = plt.subplots()\n",
    "ax.set_xlim(0, window_size)\n",
    "ax.set_ylim(0, window_size)\n",
    "circle = plt.Circle(position, radius, color='blue')\n",
    "ax.add_patch(circle)\n",
    "\n",
    "# Fonction pour mettre à jour l'animation\n",
    "def update(frame):\n",
    "    global position, velocity, is_running\n",
    "    if not is_running:\n",
    "        return circle,  # Ne rien faire si l'animation est arrêtée\n",
    "    \n",
    "    # Mise à jour de la position\n",
    "    position[:] += velocity\n",
    "    \n",
    "    # Gestion des rebonds\n",
    "    if position[0] - radius < 0 or position[0] + radius > window_size:\n",
    "        velocity[0] *= -1  # Inverser la vitesse sur l'axe X\n",
    "    if position[1] - radius < 0 or position[1] + radius > window_size:\n",
    "        velocity[1] *= -1  # Inverser la vitesse sur l'axe Y\n",
    "    \n",
    "    # Mise à jour de la position du cercle\n",
    "    circle.center = position\n",
    "    return circle,  # Retourne un tuple avec le cercle pour blit=True\n",
    "\n",
    "# Animation avec Matplotlib\n",
    "ani = FuncAnimation(fig, update, blit=True, interval=50, frames=1000)\n",
    "\n",
    "# Widgets de contrôle\n",
    "start_button = widgets.Button(description=\"Démarrer\")\n",
    "stop_button = widgets.Button(description=\"Arrêter\")\n",
    "reset_button = widgets.Button(description=\"Réinitialiser\")\n",
    "x_slider = widgets.FloatSlider(value=5.0, min=0.0, max=10.0, step=0.1, description='X :')\n",
    "y_slider = widgets.FloatSlider(value=5.0, min=0.0, max=10.0, step=0.1, description='Y :')\n",
    "vx_slider = widgets.FloatSlider(value=0.1, min=-1.0, max=1.0, step=0.01, description='Vx :')\n",
    "vy_slider = widgets.FloatSlider(value=0.1, min=-1.0, max=1.0, step=0.01, description='Vy :')\n",
    "\n",
    "# Fonctions des boutons\n",
    "def start_callback(change):\n",
    "    global is_running\n",
    "    is_running = True\n",
    "    ani.event_source.start()  # Lance l'animation\n",
    "\n",
    "def stop_callback(change):\n",
    "    global is_running\n",
    "    is_running = False\n",
    "    ani.event_source.stop()  # Arrête l'animation\n",
    "\n",
    "def reset_callback(change):\n",
    "    global position, velocity, is_running\n",
    "    is_running = False\n",
    "    ani.event_source.stop()  # Arrêter l'animation avant la réinitialisation\n",
    "    position[:] = [x_slider.value, y_slider.value]\n",
    "    velocity[:] = [vx_slider.value, vy_slider.value]\n",
    "    circle.center = position\n",
    "    ani.event_source.start()  # Relancer l'animation avec les nouveaux paramètres\n",
    "\n",
    "# Associer les boutons à leurs fonctions\n",
    "start_button.on_click(start_callback)\n",
    "stop_button.on_click(stop_callback)\n",
    "reset_button.on_click(reset_callback)\n",
    "\n",
    "# Disposition des widgets\n",
    "controls = widgets.VBox([\n",
    "    widgets.HBox([start_button, stop_button, reset_button]),\n",
    "    x_slider, y_slider, vx_slider, vy_slider\n",
    "])\n",
    "\n",
    "# Afficher les widgets et le graphique\n",
    "display(controls)\n",
    "plt.show()\n"
   ]
  }
 ],
 "metadata": {
  "kernelspec": {
   "display_name": "Python 3",
   "language": "python",
   "name": "python3"
  },
  "language_info": {
   "codemirror_mode": {
    "name": "ipython",
    "version": 3
   },
   "file_extension": ".py",
   "mimetype": "text/x-python",
   "name": "python",
   "nbconvert_exporter": "python",
   "pygments_lexer": "ipython3",
   "version": "3.12.8"
  }
 },
 "nbformat": 4,
 "nbformat_minor": 2
}
